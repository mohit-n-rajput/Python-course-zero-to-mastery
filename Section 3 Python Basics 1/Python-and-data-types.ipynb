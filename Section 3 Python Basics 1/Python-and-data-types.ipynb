{
 "cells": [
  {
   "cell_type": "markdown",
   "metadata": {
    "toc": true
   },
   "source": [
    "<h1>Table of Contents<span class=\"tocSkip\"></span></h1>\n",
    "<div class=\"toc\"><ul class=\"toc-item\"><li><span><a href=\"#Table-of-Contents\" data-toc-modified-id=\"Table-of-Contents-1\"><span class=\"toc-item-num\">1&nbsp;&nbsp;</span>Table of Contents</a></span><ul class=\"toc-item\"><li><span><a href=\"#Learning-a-language\" data-toc-modified-id=\"Learning-a-language-1.1\"><span class=\"toc-item-num\">1.1&nbsp;&nbsp;</span>Learning a language</a></span></li><li><span><a href=\"#Data-types\" data-toc-modified-id=\"Data-types-1.2\"><span class=\"toc-item-num\">1.2&nbsp;&nbsp;</span>Data types</a></span><ul class=\"toc-item\"><li><span><a href=\"#Int-and-Float\" data-toc-modified-id=\"Int-and-Float-1.2.1\"><span class=\"toc-item-num\">1.2.1&nbsp;&nbsp;</span>Int and Float</a></span></li><li><span><a href=\"#Print-something-using-print()-function\" data-toc-modified-id=\"Print-something-using-print()-function-1.2.2\"><span class=\"toc-item-num\">1.2.2&nbsp;&nbsp;</span>Print something using print() function</a></span></li><li><span><a href=\"#Int-data-types\" data-toc-modified-id=\"Int-data-types-1.2.3\"><span class=\"toc-item-num\">1.2.3&nbsp;&nbsp;</span>Int data types</a></span></li><li><span><a href=\"#Floating-point-number-is-the-number-with-decimal-points.\" data-toc-modified-id=\"Floating-point-number-is-the-number-with-decimal-points.-1.2.4\"><span class=\"toc-item-num\">1.2.4&nbsp;&nbsp;</span>Floating point number is the number with decimal points.</a></span></li><li><span><a href=\"#Float-Numbers-take-more-memory-than-the-int-numbers.\" data-toc-modified-id=\"Float-Numbers-take-more-memory-than-the-int-numbers.-1.2.5\"><span class=\"toc-item-num\">1.2.5&nbsp;&nbsp;</span>Float Numbers take more memory than the int numbers.</a></span></li><li><span><a href=\"#Int-part-stored-in-binary-,-its-hard-to-store-float-in-binary-form,-so-python-store-float's-decimal-form-and-non-decimal-point-at-the-different-locations.\" data-toc-modified-id=\"Int-part-stored-in-binary-,-its-hard-to-store-float-in-binary-form,-so-python-store-float's-decimal-form-and-non-decimal-point-at-the-different-locations.-1.2.6\"><span class=\"toc-item-num\">1.2.6&nbsp;&nbsp;</span>Int part stored in binary , its hard to store float in binary form, so python store float's decimal form and non-decimal point at the different locations.</a></span></li><li><span><a href=\"#Power-operator(double-Multiplier)-=>-**\" data-toc-modified-id=\"Power-operator(double-Multiplier)-=>-**-1.2.7\"><span class=\"toc-item-num\">1.2.7&nbsp;&nbsp;</span>Power operator(double Multiplier) =&gt; **</a></span></li><li><span><a href=\"#Integer-division:-//-,-result-rounded--down-to-integers\" data-toc-modified-id=\"Integer-division:-//-,-result-rounded--down-to-integers-1.2.8\"><span class=\"toc-item-num\">1.2.8&nbsp;&nbsp;</span>Integer division: // , result rounded  down to integers</a></span></li><li><span><a href=\"#Modulo-operator-:-Gives-remainder\" data-toc-modified-id=\"Modulo-operator-:-Gives-remainder-1.2.9\"><span class=\"toc-item-num\">1.2.9&nbsp;&nbsp;</span>Modulo operator : Gives remainder</a></span></li></ul></li><li><span><a href=\"#Math-Functions-built-in-in-Python-:-perform-math-function-on-data-type\" data-toc-modified-id=\"Math-Functions-built-in-in-Python-:-perform-math-function-on-data-type-1.3\"><span class=\"toc-item-num\">1.3&nbsp;&nbsp;</span>Math Functions built-in in Python : perform math function on data type</a></span><ul class=\"toc-item\"><li><span><a href=\"#round-function\" data-toc-modified-id=\"round-function-1.3.1\"><span class=\"toc-item-num\">1.3.1&nbsp;&nbsp;</span>round function</a></span></li><li><span><a href=\"#abs()-=->-give-absolute-value(No-negative-value)\" data-toc-modified-id=\"abs()-=->-give-absolute-value(No-negative-value)-1.3.2\"><span class=\"toc-item-num\">1.3.2&nbsp;&nbsp;</span>abs() = &gt; give absolute value(No negative value)</a></span></li><li><span><a href=\"#pow(base,exponent)\" data-toc-modified-id=\"pow(base,exponent)-1.3.3\"><span class=\"toc-item-num\">1.3.3&nbsp;&nbsp;</span>pow(base,exponent)</a></span></li></ul></li><li><span><a href=\"#Operator-Precedence\" data-toc-modified-id=\"Operator-Precedence-1.4\"><span class=\"toc-item-num\">1.4&nbsp;&nbsp;</span>Operator Precedence</a></span><ul class=\"toc-item\"><li><span><a href=\"#Using-parenthesis\" data-toc-modified-id=\"Using-parenthesis-1.4.1\"><span class=\"toc-item-num\">1.4.1&nbsp;&nbsp;</span>Using parenthesis</a></span></li><li><span><a href=\"#Excercise\" data-toc-modified-id=\"Excercise-1.4.2\"><span class=\"toc-item-num\">1.4.2&nbsp;&nbsp;</span>Excercise</a></span></li></ul></li><li><span><a href=\"#Bin-and-Complex-data-type:\" data-toc-modified-id=\"Bin-and-Complex-data-type:-1.5\"><span class=\"toc-item-num\">1.5&nbsp;&nbsp;</span>Bin and Complex data type:</a></span><ul class=\"toc-item\"><li><span><a href=\"#bin(),-hex()-and-oct()\" data-toc-modified-id=\"bin(),-hex()-and-oct()-1.5.1\"><span class=\"toc-item-num\">1.5.1&nbsp;&nbsp;</span>bin(), hex() and oct()</a></span></li><li><span><a href=\"#Convert-bin-to-int\" data-toc-modified-id=\"Convert-bin-to-int-1.5.2\"><span class=\"toc-item-num\">1.5.2&nbsp;&nbsp;</span>Convert bin to int</a></span></li></ul></li></ul></li></ul></div>"
   ]
  },
  {
   "cell_type": "markdown",
   "metadata": {},
   "source": [
    "# Table of Contents\n",
    "* &nbsp;\n",
    "\t* [Learning a language](#Learning-a-language)\n",
    "\t* [Data types](#Data-types)\n",
    "\t\t* [Int and Float](#Int-and-Float)\n"
   ]
  },
  {
   "cell_type": "markdown",
   "metadata": {},
   "source": [
    "## Learning a language"
   ]
  },
  {
   "cell_type": "raw",
   "metadata": {},
   "source": [
    "learn terms of programming languages.\n",
    "\n",
    "Learn Data types.\n",
    "\n",
    "Learn Programming Actions.\n",
    "\n",
    "Learn Best Practices of programming language."
   ]
  },
  {
   "cell_type": "markdown",
   "metadata": {},
   "source": [
    "## Data types"
   ]
  },
  {
   "cell_type": "markdown",
   "metadata": {},
   "source": [
    "Fundamental Data types of Python:\n",
    "\n",
    "1. Int\n",
    "2. String\n",
    "3. Boolean\n",
    "4. Float\n",
    "5. list\n",
    "6. tuple\n",
    "7. Set\n",
    "8. dict\n",
    "9. complex\n",
    "10. None = nothing\n",
    "\n",
    "Custom types(data types)-> we can create our own:\n",
    "1. classes\n",
    "\n",
    "Specialized Data Types:\n",
    "This are the special package,modules and Library built-in python.\n",
    "\n",
    "**Data Types in python represents values.We can store, modify and take actions on data types.**"
   ]
  },
  {
   "cell_type": "markdown",
   "metadata": {},
   "source": [
    "### Int and Float"
   ]
  },
  {
   "cell_type": "markdown",
   "metadata": {},
   "source": [
    "### Print something using print() function"
   ]
  },
  {
   "cell_type": "markdown",
   "metadata": {},
   "source": [
    "### Int data types"
   ]
  },
  {
   "cell_type": "code",
   "execution_count": 2,
   "metadata": {
    "ExecuteTime": {
     "end_time": "2020-07-04T11:33:46.125442Z",
     "start_time": "2020-07-04T11:33:46.121443Z"
    }
   },
   "outputs": [
    {
     "name": "stdout",
     "output_type": "stream",
     "text": [
      "6\n"
     ]
    }
   ],
   "source": [
    "# perform print action on the 2+4\n",
    "print(2+4)"
   ]
  },
  {
   "cell_type": "code",
   "execution_count": 3,
   "metadata": {
    "ExecuteTime": {
     "end_time": "2020-07-04T11:34:10.639213Z",
     "start_time": "2020-07-04T11:34:10.633215Z"
    }
   },
   "outputs": [
    {
     "name": "stdout",
     "output_type": "stream",
     "text": [
      "2\n",
      "8\n",
      "2.0\n"
     ]
    }
   ],
   "source": [
    "print(4-2)\n",
    "print(4*2)\n",
    "print(4/2)"
   ]
  },
  {
   "cell_type": "code",
   "execution_count": 4,
   "metadata": {
    "ExecuteTime": {
     "end_time": "2020-07-04T11:35:31.974710Z",
     "start_time": "2020-07-04T11:35:31.957711Z"
    }
   },
   "outputs": [
    {
     "name": "stdout",
     "output_type": "stream",
     "text": [
      "<class 'int'>\n",
      "<class 'int'>\n",
      "<class 'int'>\n",
      "<class 'float'>\n"
     ]
    }
   ],
   "source": [
    "print(type(4+2))\n",
    "\n",
    "print(type(4-2))\n",
    "print(type(4*2))\n",
    "print(type(4/2))\n"
   ]
  },
  {
   "cell_type": "markdown",
   "metadata": {},
   "source": [
    "In above cell, first it perform 4+2 then return the value to the type() functions then type() perform action and return value to print() functions. Then , print() print the value."
   ]
  },
  {
   "cell_type": "markdown",
   "metadata": {},
   "source": [
    "### Floating point number is the number with decimal points."
   ]
  },
  {
   "cell_type": "code",
   "execution_count": 5,
   "metadata": {
    "ExecuteTime": {
     "end_time": "2020-07-04T11:39:21.136028Z",
     "start_time": "2020-07-04T11:39:21.124029Z"
    }
   },
   "outputs": [
    {
     "data": {
      "text/plain": [
       "0.5"
      ]
     },
     "execution_count": 5,
     "metadata": {},
     "output_type": "execute_result"
    }
   ],
   "source": [
    "2/4"
   ]
  },
  {
   "cell_type": "code",
   "execution_count": 6,
   "metadata": {
    "ExecuteTime": {
     "end_time": "2020-07-04T11:39:29.938541Z",
     "start_time": "2020-07-04T11:39:29.928541Z"
    }
   },
   "outputs": [
    {
     "data": {
      "text/plain": [
       "float"
      ]
     },
     "execution_count": 6,
     "metadata": {},
     "output_type": "execute_result"
    }
   ],
   "source": [
    "type(2/4)"
   ]
  },
  {
   "cell_type": "code",
   "execution_count": 7,
   "metadata": {
    "ExecuteTime": {
     "end_time": "2020-07-04T11:39:37.732034Z",
     "start_time": "2020-07-04T11:39:37.724394Z"
    }
   },
   "outputs": [
    {
     "data": {
      "text/plain": [
       "int"
      ]
     },
     "execution_count": 7,
     "metadata": {},
     "output_type": "execute_result"
    }
   ],
   "source": [
    "type(2//4)"
   ]
  },
  {
   "cell_type": "code",
   "execution_count": 8,
   "metadata": {
    "ExecuteTime": {
     "end_time": "2020-07-04T11:39:46.169559Z",
     "start_time": "2020-07-04T11:39:46.157560Z"
    }
   },
   "outputs": [
    {
     "data": {
      "text/plain": [
       "0.30000000000000004"
      ]
     },
     "execution_count": 8,
     "metadata": {},
     "output_type": "execute_result"
    }
   ],
   "source": [
    "0.1 + 0.2"
   ]
  },
  {
   "cell_type": "code",
   "execution_count": 9,
   "metadata": {
    "ExecuteTime": {
     "end_time": "2020-07-04T11:39:53.107260Z",
     "start_time": "2020-07-04T11:39:53.087260Z"
    }
   },
   "outputs": [
    {
     "data": {
      "text/plain": [
       "0.2"
      ]
     },
     "execution_count": 9,
     "metadata": {},
     "output_type": "execute_result"
    }
   ],
   "source": [
    "0.1 + 0.1"
   ]
  },
  {
   "cell_type": "code",
   "execution_count": 10,
   "metadata": {
    "ExecuteTime": {
     "end_time": "2020-07-04T11:40:46.539438Z",
     "start_time": "2020-07-04T11:40:46.531427Z"
    }
   },
   "outputs": [
    {
     "data": {
      "text/plain": [
       "int"
      ]
     },
     "execution_count": 10,
     "metadata": {},
     "output_type": "execute_result"
    }
   ],
   "source": [
    "type(0)"
   ]
  },
  {
   "cell_type": "markdown",
   "metadata": {},
   "source": [
    "### Float Numbers take more memory than the int numbers."
   ]
  },
  {
   "cell_type": "markdown",
   "metadata": {},
   "source": [
    "###  Int part stored in binary , its hard to store float in binary form, so python store float's decimal form and non-decimal point at the different locations."
   ]
  },
  {
   "cell_type": "raw",
   "metadata": {},
   "source": [
    "int + int = int\n",
    "float + int = float\n",
    "int + float = float\n",
    "float + float = float"
   ]
  },
  {
   "cell_type": "code",
   "execution_count": 12,
   "metadata": {
    "ExecuteTime": {
     "end_time": "2020-07-04T11:47:53.210299Z",
     "start_time": "2020-07-04T11:47:53.204291Z"
    }
   },
   "outputs": [
    {
     "name": "stdout",
     "output_type": "stream",
     "text": [
      "3\n",
      "3.2\n",
      "3.4\n",
      "5.0\n"
     ]
    }
   ],
   "source": [
    "print(1 + 2)\n",
    "print(1.2 + 2)\n",
    "print(1 + 2.4)\n",
    "print(2.0 + 3.0)"
   ]
  },
  {
   "cell_type": "markdown",
   "metadata": {},
   "source": [
    "### Power operator(double Multiplier) => **"
   ]
  },
  {
   "cell_type": "code",
   "execution_count": 13,
   "metadata": {
    "ExecuteTime": {
     "end_time": "2020-07-04T11:49:25.570414Z",
     "start_time": "2020-07-04T11:49:25.565414Z"
    }
   },
   "outputs": [
    {
     "name": "stdout",
     "output_type": "stream",
     "text": [
      "10\n"
     ]
    }
   ],
   "source": [
    "print(2*5)"
   ]
  },
  {
   "cell_type": "code",
   "execution_count": 14,
   "metadata": {
    "ExecuteTime": {
     "end_time": "2020-07-04T11:49:33.330753Z",
     "start_time": "2020-07-04T11:49:33.317753Z"
    }
   },
   "outputs": [
    {
     "name": "stdout",
     "output_type": "stream",
     "text": [
      "32\n"
     ]
    }
   ],
   "source": [
    "print(2**5)"
   ]
  },
  {
   "cell_type": "code",
   "execution_count": 16,
   "metadata": {
    "ExecuteTime": {
     "end_time": "2020-07-04T11:49:44.008403Z",
     "start_time": "2020-07-04T11:49:43.990403Z"
    }
   },
   "outputs": [
    {
     "ename": "SyntaxError",
     "evalue": "invalid syntax (<ipython-input-16-1bb648607984>, line 1)",
     "output_type": "error",
     "traceback": [
      "\u001b[1;36m  File \u001b[1;32m\"<ipython-input-16-1bb648607984>\"\u001b[1;36m, line \u001b[1;32m1\u001b[0m\n\u001b[1;33m    print(2***5)\u001b[0m\n\u001b[1;37m             ^\u001b[0m\n\u001b[1;31mSyntaxError\u001b[0m\u001b[1;31m:\u001b[0m invalid syntax\n"
     ]
    }
   ],
   "source": [
    "print(2***5)"
   ]
  },
  {
   "cell_type": "markdown",
   "metadata": {},
   "source": [
    "### Integer division: // , result rounded  down to integers"
   ]
  },
  {
   "cell_type": "code",
   "execution_count": 21,
   "metadata": {
    "ExecuteTime": {
     "end_time": "2020-07-04T11:51:15.589541Z",
     "start_time": "2020-07-04T11:51:15.573523Z"
    }
   },
   "outputs": [
    {
     "name": "stdout",
     "output_type": "stream",
     "text": [
      "2.0\n"
     ]
    }
   ],
   "source": [
    "print(4/2)"
   ]
  },
  {
   "cell_type": "code",
   "execution_count": 22,
   "metadata": {
    "ExecuteTime": {
     "end_time": "2020-07-04T11:51:15.926840Z",
     "start_time": "2020-07-04T11:51:15.915839Z"
    }
   },
   "outputs": [
    {
     "name": "stdout",
     "output_type": "stream",
     "text": [
      "2\n"
     ]
    }
   ],
   "source": [
    "print(4//2)"
   ]
  },
  {
   "cell_type": "code",
   "execution_count": 23,
   "metadata": {
    "ExecuteTime": {
     "end_time": "2020-07-04T11:51:22.897531Z",
     "start_time": "2020-07-04T11:51:22.890535Z"
    }
   },
   "outputs": [
    {
     "name": "stdout",
     "output_type": "stream",
     "text": [
      "<class 'float'>\n",
      "<class 'int'>\n"
     ]
    }
   ],
   "source": [
    "print(type(4/2))\n",
    "print(type(4//2))"
   ]
  },
  {
   "cell_type": "markdown",
   "metadata": {},
   "source": [
    "### Modulo operator : Gives remainder"
   ]
  },
  {
   "cell_type": "code",
   "execution_count": 28,
   "metadata": {
    "ExecuteTime": {
     "end_time": "2020-07-04T11:52:52.061774Z",
     "start_time": "2020-07-04T11:52:52.054796Z"
    }
   },
   "outputs": [
    {
     "name": "stdout",
     "output_type": "stream",
     "text": [
      "0\n",
      "3\n",
      "Remainder is:  1\n",
      "<class 'int'>\n"
     ]
    }
   ],
   "source": [
    "print(10 % 5)\n",
    "print(10 % 7)\n",
    "\n",
    "print(\"Remainder is: \",5 % 4)\n",
    "print(type(10 % 7))"
   ]
  },
  {
   "cell_type": "markdown",
   "metadata": {},
   "source": [
    "## Math Functions built-in in Python : perform math function on data type"
   ]
  },
  {
   "cell_type": "markdown",
   "metadata": {},
   "source": [
    "### round function"
   ]
  },
  {
   "cell_type": "raw",
   "metadata": {},
   "source": [
    "round()\n",
    "\n",
    "Signature: \n",
    "round(number, ndigits=None)\n",
    "\n",
    "Docstring:\n",
    "Round a number to a given precision in decimal digits.\n",
    "\n",
    "The return value is an integer if ndigits is omitted or None.  \n",
    "Otherwise the return value has the same type as the number.  \n",
    "\n",
    "n-digits may be negative.\n",
    "\n",
    "Type:      builtin_function_or_method"
   ]
  },
  {
   "cell_type": "code",
   "execution_count": 30,
   "metadata": {
    "ExecuteTime": {
     "end_time": "2020-07-04T11:55:25.304545Z",
     "start_time": "2020-07-04T11:55:25.296539Z"
    }
   },
   "outputs": [
    {
     "data": {
      "text/plain": [
       "0"
      ]
     },
     "execution_count": 30,
     "metadata": {},
     "output_type": "execute_result"
    }
   ],
   "source": [
    "round(5,-4)"
   ]
  },
  {
   "cell_type": "code",
   "execution_count": 36,
   "metadata": {
    "ExecuteTime": {
     "end_time": "2020-07-04T11:56:15.721220Z",
     "start_time": "2020-07-04T11:56:15.708217Z"
    }
   },
   "outputs": [
    {
     "data": {
      "text/plain": [
       "5"
      ]
     },
     "execution_count": 36,
     "metadata": {},
     "output_type": "execute_result"
    }
   ],
   "source": [
    "# return int because n-digits is 0\n",
    "round(5.2)"
   ]
  },
  {
   "cell_type": "code",
   "execution_count": 37,
   "metadata": {
    "ExecuteTime": {
     "end_time": "2020-07-04T11:56:25.700311Z",
     "start_time": "2020-07-04T11:56:25.692708Z"
    }
   },
   "outputs": [
    {
     "data": {
      "text/plain": [
       "builtin_function_or_method"
      ]
     },
     "execution_count": 37,
     "metadata": {},
     "output_type": "execute_result"
    }
   ],
   "source": [
    "round.__class__"
   ]
  },
  {
   "cell_type": "markdown",
   "metadata": {
    "ExecuteTime": {
     "end_time": "2020-07-04T11:56:46.739161Z",
     "start_time": "2020-07-04T11:56:46.661483Z"
    }
   },
   "source": [
    "### abs() = > give absolute value(No negative value)"
   ]
  },
  {
   "cell_type": "code",
   "execution_count": 42,
   "metadata": {
    "ExecuteTime": {
     "end_time": "2020-07-04T11:58:07.852514Z",
     "start_time": "2020-07-04T11:58:07.846514Z"
    }
   },
   "outputs": [
    {
     "name": "stdout",
     "output_type": "stream",
     "text": [
      "5\n",
      "5\n",
      "1.321312\n",
      "0\n"
     ]
    }
   ],
   "source": [
    "print(abs(5))\n",
    "print(abs(-5))\n",
    "print(abs(-1.321312))\n",
    "\n",
    "print(abs(0))"
   ]
  },
  {
   "cell_type": "markdown",
   "metadata": {},
   "source": [
    "### pow(base,exponent)"
   ]
  },
  {
   "cell_type": "code",
   "execution_count": 43,
   "metadata": {
    "ExecuteTime": {
     "end_time": "2020-07-04T12:00:39.732164Z",
     "start_time": "2020-07-04T12:00:39.715180Z"
    }
   },
   "outputs": [
    {
     "data": {
      "text/plain": [
       "243"
      ]
     },
     "execution_count": 43,
     "metadata": {},
     "output_type": "execute_result"
    }
   ],
   "source": [
    "pow(3,5)"
   ]
  },
  {
   "cell_type": "code",
   "execution_count": 44,
   "metadata": {
    "ExecuteTime": {
     "end_time": "2020-07-04T12:00:53.721243Z",
     "start_time": "2020-07-04T12:00:53.702243Z"
    }
   },
   "outputs": [
    {
     "ename": "NameError",
     "evalue": "name 'factotial' is not defined",
     "output_type": "error",
     "traceback": [
      "\u001b[1;31m---------------------------------------------------------------------------\u001b[0m",
      "\u001b[1;31mNameError\u001b[0m                                 Traceback (most recent call last)",
      "\u001b[1;32m<ipython-input-44-66ac443113f4>\u001b[0m in \u001b[0;36m<module>\u001b[1;34m\u001b[0m\n\u001b[1;32m----> 1\u001b[1;33m \u001b[0mfactotial\u001b[0m\u001b[1;33m(\u001b[0m\u001b[1;36m5\u001b[0m\u001b[1;33m)\u001b[0m\u001b[1;33m\u001b[0m\u001b[1;33m\u001b[0m\u001b[0m\n\u001b[0m",
      "\u001b[1;31mNameError\u001b[0m: name 'factotial' is not defined"
     ]
    }
   ],
   "source": [
    "factotial(5)"
   ]
  },
  {
   "cell_type": "code",
   "execution_count": 45,
   "metadata": {
    "ExecuteTime": {
     "end_time": "2020-07-04T12:01:17.272055Z",
     "start_time": "2020-07-04T12:01:17.268054Z"
    }
   },
   "outputs": [],
   "source": [
    "from math import factorial"
   ]
  },
  {
   "cell_type": "code",
   "execution_count": 46,
   "metadata": {
    "ExecuteTime": {
     "end_time": "2020-07-04T12:01:19.701152Z",
     "start_time": "2020-07-04T12:01:19.684152Z"
    }
   },
   "outputs": [
    {
     "data": {
      "text/plain": [
       "120"
      ]
     },
     "execution_count": 46,
     "metadata": {},
     "output_type": "execute_result"
    }
   ],
   "source": [
    "factorial(5)"
   ]
  },
  {
   "cell_type": "markdown",
   "metadata": {},
   "source": [
    "## Operator Precedence"
   ]
  },
  {
   "cell_type": "raw",
   "metadata": {},
   "source": [
    "PEMDAS => parenthis exponent (multiplication ,division) (addition,subtraction)"
   ]
  },
  {
   "cell_type": "markdown",
   "metadata": {},
   "source": [
    "1. ()\n",
    "2. ** \n",
    "3. * \n",
    "4. /\n",
    "5. + \n",
    "6. -"
   ]
  },
  {
   "cell_type": "code",
   "execution_count": 52,
   "metadata": {
    "ExecuteTime": {
     "end_time": "2020-07-04T12:09:23.542958Z",
     "start_time": "2020-07-04T12:09:23.524957Z"
    }
   },
   "outputs": [
    {
     "data": {
      "text/plain": [
       "8"
      ]
     },
     "execution_count": 52,
     "metadata": {},
     "output_type": "execute_result"
    }
   ],
   "source": [
    "20 - 3*4"
   ]
  },
  {
   "cell_type": "code",
   "execution_count": 53,
   "metadata": {
    "ExecuteTime": {
     "end_time": "2020-07-04T12:09:23.806595Z",
     "start_time": "2020-07-04T12:09:23.785575Z"
    }
   },
   "outputs": [
    {
     "data": {
      "text/plain": [
       "3.0"
      ]
     },
     "execution_count": 53,
     "metadata": {},
     "output_type": "execute_result"
    }
   ],
   "source": [
    "20 / 5-1"
   ]
  },
  {
   "cell_type": "code",
   "execution_count": 54,
   "metadata": {
    "ExecuteTime": {
     "end_time": "2020-07-04T12:09:24.008637Z",
     "start_time": "2020-07-04T12:09:23.993639Z"
    }
   },
   "outputs": [
    {
     "data": {
      "text/plain": [
       "3.0"
      ]
     },
     "execution_count": 54,
     "metadata": {},
     "output_type": "execute_result"
    }
   ],
   "source": [
    "(20 / 5-1)"
   ]
  },
  {
   "cell_type": "code",
   "execution_count": 55,
   "metadata": {
    "ExecuteTime": {
     "end_time": "2020-07-04T12:09:24.209348Z",
     "start_time": "2020-07-04T12:09:24.200346Z"
    }
   },
   "outputs": [
    {
     "data": {
      "text/plain": [
       "5.0"
      ]
     },
     "execution_count": 55,
     "metadata": {},
     "output_type": "execute_result"
    }
   ],
   "source": [
    "(20)/(5-1)"
   ]
  },
  {
   "cell_type": "markdown",
   "metadata": {},
   "source": [
    "### Using parenthesis"
   ]
  },
  {
   "cell_type": "code",
   "execution_count": 56,
   "metadata": {
    "ExecuteTime": {
     "end_time": "2020-07-04T12:09:24.919696Z",
     "start_time": "2020-07-04T12:09:24.902697Z"
    }
   },
   "outputs": [
    {
     "name": "stdout",
     "output_type": "stream",
     "text": [
      "21\n"
     ]
    }
   ],
   "source": [
    "print((20-3) + 2**2)"
   ]
  },
  {
   "cell_type": "markdown",
   "metadata": {},
   "source": [
    "### Excercise"
   ]
  },
  {
   "cell_type": "code",
   "execution_count": 57,
   "metadata": {
    "ExecuteTime": {
     "end_time": "2020-07-04T12:10:00.927758Z",
     "start_time": "2020-07-04T12:10:00.924758Z"
    }
   },
   "outputs": [
    {
     "name": "stdout",
     "output_type": "stream",
     "text": [
      "45.0\n"
     ]
    }
   ],
   "source": [
    "print((5 + 4) * 10 / 2)"
   ]
  },
  {
   "cell_type": "code",
   "execution_count": 58,
   "metadata": {
    "ExecuteTime": {
     "end_time": "2020-07-04T12:10:20.564033Z",
     "start_time": "2020-07-04T12:10:20.547034Z"
    }
   },
   "outputs": [
    {
     "name": "stdout",
     "output_type": "stream",
     "text": [
      "45.0\n"
     ]
    }
   ],
   "source": [
    "# ans = 45.0\n",
    "print(((5 + 4) * 10) / 2)"
   ]
  },
  {
   "cell_type": "code",
   "execution_count": 59,
   "metadata": {
    "ExecuteTime": {
     "end_time": "2020-07-04T12:11:08.340870Z",
     "start_time": "2020-07-04T12:11:08.332870Z"
    }
   },
   "outputs": [
    {
     "name": "stdout",
     "output_type": "stream",
     "text": [
      "45.0\n",
      "25.0\n",
      "25\n"
     ]
    }
   ],
   "source": [
    "# ans: 45.0\n",
    "print((5 + 4) * (10 / 2))\n",
    "\n",
    "# ans: 25.0\n",
    "print(5 + (4 * 10) / 2)\n",
    "\n",
    "# ans: 25\n",
    "print(5 + 4 * 10 // 2)"
   ]
  },
  {
   "cell_type": "markdown",
   "metadata": {},
   "source": [
    "## Bin and Complex data type:\n"
   ]
  },
  {
   "cell_type": "code",
   "execution_count": 60,
   "metadata": {
    "ExecuteTime": {
     "end_time": "2020-07-04T12:11:56.487291Z",
     "start_time": "2020-07-04T12:11:56.480291Z"
    }
   },
   "outputs": [
    {
     "ename": "SyntaxError",
     "evalue": "invalid syntax (<ipython-input-60-328edc579bd3>, line 1)",
     "output_type": "error",
     "traceback": [
      "\u001b[1;36m  File \u001b[1;32m\"<ipython-input-60-328edc579bd3>\"\u001b[1;36m, line \u001b[1;32m1\u001b[0m\n\u001b[1;33m    2 + 3i\u001b[0m\n\u001b[1;37m         ^\u001b[0m\n\u001b[1;31mSyntaxError\u001b[0m\u001b[1;31m:\u001b[0m invalid syntax\n"
     ]
    }
   ],
   "source": [
    "2 + 3i"
   ]
  },
  {
   "cell_type": "code",
   "execution_count": 61,
   "metadata": {
    "ExecuteTime": {
     "end_time": "2020-07-04T12:12:00.967499Z",
     "start_time": "2020-07-04T12:12:00.940499Z"
    }
   },
   "outputs": [
    {
     "data": {
      "text/plain": [
       "(2+3j)"
      ]
     },
     "execution_count": 61,
     "metadata": {},
     "output_type": "execute_result"
    }
   ],
   "source": [
    "2 + 3j"
   ]
  },
  {
   "cell_type": "code",
   "execution_count": 62,
   "metadata": {
    "ExecuteTime": {
     "end_time": "2020-07-04T12:12:07.820684Z",
     "start_time": "2020-07-04T12:12:07.810685Z"
    }
   },
   "outputs": [
    {
     "data": {
      "text/plain": [
       "complex"
      ]
     },
     "execution_count": 62,
     "metadata": {},
     "output_type": "execute_result"
    }
   ],
   "source": [
    "type(2+3j)"
   ]
  },
  {
   "cell_type": "markdown",
   "metadata": {},
   "source": [
    "### bin(), hex() and oct()"
   ]
  },
  {
   "cell_type": "code",
   "execution_count": 67,
   "metadata": {
    "ExecuteTime": {
     "end_time": "2020-07-04T12:13:17.689888Z",
     "start_time": "2020-07-04T12:13:17.679886Z"
    }
   },
   "outputs": [
    {
     "name": "stdout",
     "output_type": "stream",
     "text": [
      "0b10001\n"
     ]
    }
   ],
   "source": [
    "print(bin(17))"
   ]
  },
  {
   "cell_type": "code",
   "execution_count": 64,
   "metadata": {
    "ExecuteTime": {
     "end_time": "2020-07-04T12:12:38.683213Z",
     "start_time": "2020-07-04T12:12:38.667214Z"
    }
   },
   "outputs": [
    {
     "data": {
      "text/plain": [
       "'0o21'"
      ]
     },
     "execution_count": 64,
     "metadata": {},
     "output_type": "execute_result"
    }
   ],
   "source": [
    "oct(17)"
   ]
  },
  {
   "cell_type": "code",
   "execution_count": 65,
   "metadata": {
    "ExecuteTime": {
     "end_time": "2020-07-04T12:12:48.627809Z",
     "start_time": "2020-07-04T12:12:48.609526Z"
    }
   },
   "outputs": [
    {
     "data": {
      "text/plain": [
       "'0x11'"
      ]
     },
     "execution_count": 65,
     "metadata": {},
     "output_type": "execute_result"
    }
   ],
   "source": [
    "hex(17)"
   ]
  },
  {
   "cell_type": "code",
   "execution_count": 68,
   "metadata": {
    "ExecuteTime": {
     "end_time": "2020-07-04T12:13:53.026157Z",
     "start_time": "2020-07-04T12:13:53.010156Z"
    }
   },
   "outputs": [
    {
     "name": "stdout",
     "output_type": "stream",
     "text": [
      "10001\n"
     ]
    }
   ],
   "source": [
    "print(bin(17).strip(\"0b\"))"
   ]
  },
  {
   "cell_type": "markdown",
   "metadata": {},
   "source": [
    "### Convert bin to int"
   ]
  },
  {
   "cell_type": "code",
   "execution_count": 69,
   "metadata": {
    "ExecuteTime": {
     "end_time": "2020-07-04T12:14:48.714105Z",
     "start_time": "2020-07-04T12:14:48.702108Z"
    }
   },
   "outputs": [
    {
     "name": "stdout",
     "output_type": "stream",
     "text": [
      "17\n"
     ]
    }
   ],
   "source": [
    "# bin = base 2\n",
    "print(int('0b10001',2))"
   ]
  },
  {
   "cell_type": "code",
   "execution_count": 70,
   "metadata": {
    "ExecuteTime": {
     "end_time": "2020-07-04T12:15:21.414654Z",
     "start_time": "2020-07-04T12:15:21.407655Z"
    }
   },
   "outputs": [
    {
     "name": "stdout",
     "output_type": "stream",
     "text": [
      "17\n"
     ]
    }
   ],
   "source": [
    "# hex = base 16\n",
    "print(int('0x11',16))"
   ]
  },
  {
   "cell_type": "code",
   "execution_count": null,
   "metadata": {},
   "outputs": [],
   "source": []
  }
 ],
 "metadata": {
  "kernelspec": {
   "display_name": "Python 3",
   "language": "python",
   "name": "python3"
  },
  "language_info": {
   "codemirror_mode": {
    "name": "ipython",
    "version": 3
   },
   "file_extension": ".py",
   "mimetype": "text/x-python",
   "name": "python",
   "nbconvert_exporter": "python",
   "pygments_lexer": "ipython3",
   "version": "3.7.7"
  },
  "toc": {
   "base_numbering": 1,
   "nav_menu": {},
   "number_sections": true,
   "sideBar": true,
   "skip_h1_title": false,
   "title_cell": "Table of Contents",
   "title_sidebar": "Contents",
   "toc_cell": true,
   "toc_position": {},
   "toc_section_display": true,
   "toc_window_display": false
  }
 },
 "nbformat": 4,
 "nbformat_minor": 4
}
